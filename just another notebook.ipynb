{
 "cells": [
  {
   "cell_type": "code",
   "execution_count": 2,
   "id": "5dc010b7",
   "metadata": {},
   "outputs": [
    {
     "name": "stdout",
     "output_type": "stream",
     "text": [
      "6\n",
      "8 108  75 13 -2 57\n",
      "[-2, 8, 13, 57, 75, 108]\n"
     ]
    }
   ],
   "source": [
    "# this is insertion sort\n",
    "\n",
    "def insertionsort(array):\n",
    "    length = len(array)  \n",
    "    for i in range(length):\n",
    "        cur, j = array[i], i - 1\n",
    "        \n",
    "        while (array[j] > cur) and (j >= 0):\n",
    "                array[j + 1] = array[j]\n",
    "                j -= 1\n",
    "                \n",
    "        array[j + 1] = cur\n",
    "        \n",
    "if __name__ == \"__main__\":\n",
    "    n = int(input())\n",
    "    array = list(map(int, input().split()[:n]))\n",
    "    insertionsort(array)\n",
    "    print(array)"
   ]
  }
 ],
 "metadata": {
  "kernelspec": {
   "display_name": "Python 3 (ipykernel)",
   "language": "python",
   "name": "python3"
  },
  "language_info": {
   "codemirror_mode": {
    "name": "ipython",
    "version": 3
   },
   "file_extension": ".py",
   "mimetype": "text/x-python",
   "name": "python",
   "nbconvert_exporter": "python",
   "pygments_lexer": "ipython3",
   "version": "3.10.4"
  }
 },
 "nbformat": 4,
 "nbformat_minor": 5
}
